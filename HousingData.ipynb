{
 "cells": [
  {
   "cell_type": "code",
   "execution_count": 124,
   "metadata": {},
   "outputs": [],
   "source": [
    "import pandas as pd\n",
    "import numpy as np\n",
    "import matplotlib.pyplot as plt"
   ]
  },
  {
   "attachments": {},
   "cell_type": "markdown",
   "metadata": {},
   "source": [
    "# Housing Dataset operations\n",
    "\n",
    "### Dataset:\n",
    "* The property evaluation data from the source: https://data.boston.gov/dataset/property-assessment\n",
    "* This dataset is a good specifier for housing or property prices.\n",
    "* There is a field of Zip Code which can help us correlate with the crime data.\n",
    "\n",
    "### Data Cleaning:\n",
    "* Data had many other fields apart from the ones used so we just had choosen these fields.\n",
    "* There were certain abberations and problems with Zip Code.\n",
    "* Combined the name of the street and filtered the housing data from the commercial data."
   ]
  },
  {
   "cell_type": "code",
   "execution_count": 196,
   "metadata": {},
   "outputs": [],
   "source": [
    "def clean_zip_code(zip_code):\n",
    "    \n",
    "    if type(zip_code) is float:\n",
    "        zip_code = int(zip_code)\n",
    "        zip_code = str(zip_code)\n",
    "    else:\n",
    "        if len(zip_code) > 0:\n",
    "            zip_code = zip_code[:-1]\n",
    "            zip_code = zip_code[1:]\n",
    "    \n",
    "    return zip_code\n",
    "\n",
    "def pre_process_data(housing_data_all_cols):    \n",
    "    housing_data = housing_data_all_cols[['ST_NAME',\n",
    "                                         'ST_NAME_SUF',\n",
    "                                         'ZIPCODE',\n",
    "                                         'LU',\n",
    "                                         'AV_TOTAL',\n",
    "                                         'YR_BUILT',\n",
    "                                         'LIVING_AREA']]\n",
    "    housing_data['ST_NAME'] = housing_data['ST_NAME'] + \" \" + housing_data['ST_NAME_SUF']\n",
    "    housing_data = housing_data.drop(['ST_NAME_SUF'], axis=1)\n",
    "    housing_data = housing_data.dropna(how='any')\n",
    "    housing_data = housing_data[(housing_data['LU']=='R1')\n",
    "                                  | (housing_data['LU']=='R2')\n",
    "                                  | (housing_data['LU']=='R3')\n",
    "                                  | (housing_data['LU']=='R4')\n",
    "                                  | (housing_data['LU']=='RC')\n",
    "                                  | (housing_data['LU']=='CD')\n",
    "                                  | (housing_data['LU']=='RL')]\n",
    "    housing_data['ZIPCODE'] = housing_data.ZIPCODE.map(lambda x:clean_zip_code(x))\n",
    "    \n",
    "    indexNames = housing_data[ housing_data['AV_TOTAL'] == 0 ].index\n",
    "\n",
    "    # Delete these row indexes from dataFrame\n",
    "    housing_data.drop(indexNames , inplace=True)\n",
    "    \n",
    "    return housing_data"
   ]
  },
  {
   "cell_type": "markdown",
   "metadata": {},
   "source": [
    "## Data fetching and pre-processing data\n",
    "\n",
    "* Here, we fetch the data of different years.\n",
    "* We pre-process it by combining a column, dropping rows with null entries, filtering only residential data and cleaning the zip code values."
   ]
  },
  {
   "cell_type": "code",
   "execution_count": 197,
   "metadata": {},
   "outputs": [
    {
     "name": "stderr",
     "output_type": "stream",
     "text": [
      "C:\\ProgramData\\Anaconda3\\lib\\site-packages\\ipykernel_launcher.py:21: SettingWithCopyWarning: \n",
      "A value is trying to be set on a copy of a slice from a DataFrame.\n",
      "Try using .loc[row_indexer,col_indexer] = value instead\n",
      "\n",
      "See the caveats in the documentation: http://pandas.pydata.org/pandas-docs/stable/indexing.html#indexing-view-versus-copy\n",
      "C:\\ProgramData\\Anaconda3\\lib\\site-packages\\IPython\\core\\interactiveshell.py:2714: DtypeWarning: Columns (60,63) have mixed types. Specify dtype option on import or set low_memory=False.\n",
      "  interactivity=interactivity, compiler=compiler, result=result)\n",
      "C:\\ProgramData\\Anaconda3\\lib\\site-packages\\IPython\\core\\interactiveshell.py:2714: DtypeWarning: Columns (15,60,63) have mixed types. Specify dtype option on import or set low_memory=False.\n",
      "  interactivity=interactivity, compiler=compiler, result=result)\n",
      "C:\\ProgramData\\Anaconda3\\lib\\site-packages\\IPython\\core\\interactiveshell.py:2714: DtypeWarning: Columns (15,60) have mixed types. Specify dtype option on import or set low_memory=False.\n",
      "  interactivity=interactivity, compiler=compiler, result=result)\n"
     ]
    }
   ],
   "source": [
    "#2015 Property valuation data\n",
    "fileURL = './housing_data_2015.csv'\n",
    "housing_data_all_cols_2015 = pd.read_csv(fileURL, header=0)\n",
    "housing_data_2015 = pre_process_data(housing_data_all_cols_2015)\n",
    "\n",
    "#2016 Property valuation data\n",
    "fileURL = './housing_data_2016.csv'\n",
    "housing_data_all_cols_2016 = pd.read_csv(fileURL, header=0)\n",
    "housing_data_2016 = pre_process_data(housing_data_all_cols_2016)\n",
    "\n",
    "#2017 Property valuation data\n",
    "fileURL = './housing_data_2017.csv'\n",
    "housing_data_all_cols_2017 = pd.read_csv(fileURL, header=0)\n",
    "housing_data_2017 = pre_process_data(housing_data_all_cols_2017)\n",
    "\n",
    "#2018 Property valuation data\n",
    "fileURL = './housing_data_2018.csv'\n",
    "housing_data_all_cols_2018 = pd.read_csv(fileURL, header=0)\n",
    "housing_data_2018 = pre_process_data(housing_data_all_cols_2018)\n",
    "\n",
    "#2019 Property valuation data\n",
    "fileURL = './housing_full_data.csv'\n",
    "housing_data_all_cols = pd.read_csv(fileURL, header=0)\n",
    "housing_data = pre_process_data(housing_data_all_cols)"
   ]
  },
  {
   "cell_type": "code",
   "execution_count": 198,
   "metadata": {},
   "outputs": [
    {
     "data": {
      "text/html": [
       "<div>\n",
       "<style scoped>\n",
       "    .dataframe tbody tr th:only-of-type {\n",
       "        vertical-align: middle;\n",
       "    }\n",
       "\n",
       "    .dataframe tbody tr th {\n",
       "        vertical-align: top;\n",
       "    }\n",
       "\n",
       "    .dataframe thead th {\n",
       "        text-align: right;\n",
       "    }\n",
       "</style>\n",
       "<table border=\"1\" class=\"dataframe\">\n",
       "  <thead>\n",
       "    <tr style=\"text-align: right;\">\n",
       "      <th></th>\n",
       "      <th>ST_NAME</th>\n",
       "      <th>ZIPCODE</th>\n",
       "      <th>LU</th>\n",
       "      <th>AV_TOTAL</th>\n",
       "      <th>YR_BUILT</th>\n",
       "      <th>LIVING_AREA</th>\n",
       "    </tr>\n",
       "  </thead>\n",
       "  <tbody>\n",
       "    <tr>\n",
       "      <th>0</th>\n",
       "      <td>BEACON ST</td>\n",
       "      <td>2108</td>\n",
       "      <td>CD</td>\n",
       "      <td>878200</td>\n",
       "      <td>1850.0</td>\n",
       "      <td>789.0</td>\n",
       "    </tr>\n",
       "    <tr>\n",
       "      <th>1</th>\n",
       "      <td>BEACON ST</td>\n",
       "      <td>2108</td>\n",
       "      <td>CD</td>\n",
       "      <td>817600</td>\n",
       "      <td>1850.0</td>\n",
       "      <td>752.0</td>\n",
       "    </tr>\n",
       "    <tr>\n",
       "      <th>2</th>\n",
       "      <td>BEACON ST</td>\n",
       "      <td>2108</td>\n",
       "      <td>CD</td>\n",
       "      <td>849500</td>\n",
       "      <td>1850.0</td>\n",
       "      <td>792.0</td>\n",
       "    </tr>\n",
       "    <tr>\n",
       "      <th>3</th>\n",
       "      <td>BEACON ST</td>\n",
       "      <td>2108</td>\n",
       "      <td>CD</td>\n",
       "      <td>734400</td>\n",
       "      <td>1850.0</td>\n",
       "      <td>720.0</td>\n",
       "    </tr>\n",
       "    <tr>\n",
       "      <th>4</th>\n",
       "      <td>BEACON ST</td>\n",
       "      <td>2108</td>\n",
       "      <td>CD</td>\n",
       "      <td>2162300</td>\n",
       "      <td>1850.0</td>\n",
       "      <td>1482.0</td>\n",
       "    </tr>\n",
       "  </tbody>\n",
       "</table>\n",
       "</div>"
      ],
      "text/plain": [
       "     ST_NAME ZIPCODE  LU  AV_TOTAL  YR_BUILT  LIVING_AREA\n",
       "0  BEACON ST    2108  CD    878200    1850.0        789.0\n",
       "1  BEACON ST    2108  CD    817600    1850.0        752.0\n",
       "2  BEACON ST    2108  CD    849500    1850.0        792.0\n",
       "3  BEACON ST    2108  CD    734400    1850.0        720.0\n",
       "4  BEACON ST    2108  CD   2162300    1850.0       1482.0"
      ]
     },
     "execution_count": 198,
     "metadata": {},
     "output_type": "execute_result"
    }
   ],
   "source": [
    "housing_data.head()"
   ]
  },
  {
   "cell_type": "markdown",
   "metadata": {},
   "source": [
    "## Analyzing the data\n",
    "* Below we analyze the 5 streets having the least housing prices in a Zip Code."
   ]
  },
  {
   "cell_type": "code",
   "execution_count": 199,
   "metadata": {
    "scrolled": true
   },
   "outputs": [
    {
     "data": {
      "text/plain": [
       "ZIPCODE  ST_NAME                       \n",
       "2026     BONAD RD                          5.101000e+05\n",
       "2108     HAMILTON PL                       3.177460e+05\n",
       "         MT VERNON  ST                     6.554000e+05\n",
       "         WILLOW ST                         7.603886e+05\n",
       "         RIVER ST                          1.000343e+06\n",
       "         CHESTNUT  ST                      1.426300e+06\n",
       "         RIVER STREET PL                   1.509900e+06\n",
       "         CEDAR LANE WY                     1.560694e+06\n",
       "         BEACON ST                         1.563050e+06\n",
       "         SPRUCE CT                         1.771525e+06\n",
       "         MT VERNON ST                      1.786410e+06\n",
       "2109     ARCHWAY ST                        5.079000e+05\n",
       "         HANOVER ST                        5.095909e+05\n",
       "         SALUTATION ST                     5.580667e+05\n",
       "         CLARK ST                          5.809655e+05\n",
       "         FOSTER ST                         5.868107e+05\n",
       "         HOLDEN CT                         6.563250e+05\n",
       "         FAIRFIELD PL                      6.723500e+05\n",
       "         HANOVER AV                        7.411850e+05\n",
       "         FLEET ST                          7.644445e+05\n",
       "         FULTON ST                         8.587540e+05\n",
       "2110     HAWLEY ST                         7.510000e+04\n",
       "         TREMONT ST                        5.628000e+05\n",
       "         PEARL ST                          7.638600e+05\n",
       "         LEWIS WH                          8.214000e+05\n",
       "         E INDIA RO                        8.306241e+05\n",
       "         BROAD ST                          8.829762e+05\n",
       "         DEVONSHIRE ST                     9.327500e+05\n",
       "         SUMMER ST                         1.084841e+06\n",
       "         ATLANTIC AV                       1.176731e+06\n",
       "                                               ...     \n",
       "2210     CHANNEL CENTER ST                 1.159386e+06\n",
       "         ATLANTIC AV                       2.318621e+06\n",
       "         LIBERTY DR                        3.842513e+06\n",
       "         CONGRESS ST                       3.999097e+06\n",
       "2215     BACK ST                           6.610000e+04\n",
       "         FENWAY                            2.417500e+05\n",
       "         PARK  DR                          3.166750e+05\n",
       "         RIVERWAY ST                       3.962762e+05\n",
       "         WESTLAND AV                       4.117000e+05\n",
       "         JERSEY ST                         4.273848e+05\n",
       "         QUEENSBERRY ST                    4.360316e+05\n",
       "         ABERDEEN ST                       4.442257e+05\n",
       "         PARK DR                           4.830502e+05\n",
       "         PETERBOROUGH ST                   5.127640e+05\n",
       "2445     ORCHARD RD                        1.258982e+06\n",
       "         WILLISTON RD                      1.305581e+06\n",
       "         RESERVOIR CT                      1.483500e+06\n",
       "2446     WESTBOURNE TE                     3.731000e+05\n",
       "         JORDAN RD                         9.068000e+05\n",
       "         CITY VIEW RD                      9.554167e+05\n",
       "2467     HOLLYWOOD RD                      3.000000e+02\n",
       "         WESTGATE RD                       2.057041e+05\n",
       "         BRYON RD                          2.073532e+05\n",
       "         RISLEY RD                         2.169000e+05\n",
       "         PAYSON RD                         2.712400e+05\n",
       "         BROADLAWN PK                      2.821732e+05\n",
       "         BROADLAWN                 PK      3.098000e+05\n",
       "         VFW PW                            3.808082e+05\n",
       "         W ROXBURY PW                      4.307061e+05\n",
       "         HACKENSACK RD                     4.324434e+05\n",
       "Name: AV_TOTAL, Length: 291, dtype: float64"
      ]
     },
     "execution_count": 199,
     "metadata": {},
     "output_type": "execute_result"
    }
   ],
   "source": [
    "st_zp_mean = housing_data.groupby([\"ZIPCODE\",\"ST_NAME\"]).agg({'AV_TOTAL':'mean'})\n",
    "top_5_streets = st_zp_mean['AV_TOTAL'].groupby(level=0, group_keys=False)\n",
    "top_5_streets.nsmallest(10)"
   ]
  },
  {
   "cell_type": "markdown",
   "metadata": {},
   "source": [
    "* Below we analyze the 5 streets having the most housing prices in a Zip Code."
   ]
  },
  {
   "cell_type": "code",
   "execution_count": 200,
   "metadata": {
    "scrolled": true
   },
   "outputs": [
    {
     "data": {
      "text/plain": [
       "ZIPCODE  ST_NAME                       \n",
       "2026     BONAD RD                          5.101000e+05\n",
       "2108     COURT ST                          1.285650e+07\n",
       "         BOWDOIN ST                        1.276150e+07\n",
       "         MT VERNON PL                      8.995967e+06\n",
       "         WASHINGTON ST                     8.875500e+06\n",
       "         BEACON  ST                        7.900400e+06\n",
       "         LOUISBURG SQ                      7.321565e+06\n",
       "         WINTER ST                         5.347159e+06\n",
       "         PARK ST                           4.714167e+06\n",
       "         MARSHALL ST                       4.338000e+06\n",
       "         CHARLES ST                        3.886056e+06\n",
       "2109     WASHINGTON ST                     2.374355e+08\n",
       "         STATE ST                          4.927428e+06\n",
       "         UNION WH                          2.860034e+06\n",
       "         BATTERY ST                        1.710455e+06\n",
       "         HARRIS ST                         1.538833e+06\n",
       "         COMMERCIAL  ST                    1.533882e+06\n",
       "         LEWIS ST                          1.347250e+06\n",
       "         FOSTER CT                         1.306000e+06\n",
       "         BROAD ST                          1.281786e+06\n",
       "         WATER ST                          1.156933e+06\n",
       "2110     NORTHERN AV                       7.813013e+07\n",
       "         CONGRESS ST                       4.911650e+07\n",
       "         WHARF ST                          8.128822e+06\n",
       "         ARCH ST                           5.542500e+06\n",
       "         BATTERYMARCH ST                   3.367367e+06\n",
       "         ROWES WHARF                       2.408928e+06\n",
       "         FRANKLIN ST                       2.400087e+06\n",
       "         COMMERCIAL WHARF EAST             1.296207e+06\n",
       "         ATLANTIC AV                       1.176731e+06\n",
       "                                               ...     \n",
       "2210     LIBERTY DR                        3.842513e+06\n",
       "         ATLANTIC AV                       2.318621e+06\n",
       "         CHANNEL CENTER ST                 1.159386e+06\n",
       "         D ST                              8.066837e+05\n",
       "2215     BROOKLINE AV                      3.441650e+07\n",
       "         BOYLSTON ST                       4.311521e+06\n",
       "         KILMARNOCK ST                     4.303000e+06\n",
       "         STRATHMORE RD                     1.806100e+06\n",
       "         NEWBURY ST                        1.308843e+06\n",
       "         ARUNDEL ST                        1.264000e+06\n",
       "         COMMONWEALTH AV                   1.158148e+06\n",
       "         BAY STATE RD                      9.995348e+05\n",
       "         MINER ST                          8.316234e+05\n",
       "         KESWICK ST                        8.116842e+05\n",
       "2445     RESERVOIR CT                      1.483500e+06\n",
       "         WILLISTON RD                      1.305581e+06\n",
       "         ORCHARD RD                        1.258982e+06\n",
       "2446     CITY VIEW RD                      9.554167e+05\n",
       "         JORDAN RD                         9.068000e+05\n",
       "         WESTBOURNE TE                     3.731000e+05\n",
       "2467     BEACON  ST                        1.516154e+06\n",
       "         ALLANDALE                 ST      1.454586e+06\n",
       "         ALLANDALE ST                      1.241083e+06\n",
       "         BEACON ST                         1.144489e+06\n",
       "         HACKENSACK TE                     7.379500e+05\n",
       "         HACKENSACK CT                     7.271167e+05\n",
       "         HACKENSACK CI                     6.439800e+05\n",
       "         CREHORE RD                        5.953000e+05\n",
       "         LELAND RD                         5.244000e+05\n",
       "         MALIA TE                          4.788000e+05\n",
       "Name: AV_TOTAL, Length: 291, dtype: float64"
      ]
     },
     "execution_count": 200,
     "metadata": {},
     "output_type": "execute_result"
    }
   ],
   "source": [
    "top_5_streets.nlargest(10)"
   ]
  },
  {
   "cell_type": "markdown",
   "metadata": {},
   "source": [
    "Grouping the data by the Zip codes"
   ]
  },
  {
   "cell_type": "code",
   "execution_count": 140,
   "metadata": {},
   "outputs": [],
   "source": [
    "zipcode_grpby_2019 = pd.DataFrame(housing_data.groupby(['ZIPCODE']).mean()['AV_TOTAL'])\n",
    "zipcode_grpby_2018 = pd.DataFrame(housing_data_2018.groupby(['ZIPCODE']).mean()['AV_TOTAL'])\n",
    "zipcode_grpby_2017 = pd.DataFrame(housing_data_2017.groupby(['ZIPCODE']).mean()['AV_TOTAL'])\n",
    "zipcode_grpby_2016 = pd.DataFrame(housing_data_2016.groupby(['ZIPCODE']).mean()['AV_TOTAL'])\n",
    "\n",
    "zipcode_grpby_2018 = zipcode_grpby_2018.reset_index()\n",
    "zipcode_grpby_2017 = zipcode_grpby_2017.reset_index()\n",
    "zipcode_grpby_2016 = zipcode_grpby_2016.reset_index()\n",
    "\n",
    "zipcode_grpby_2017 = zipcode_grpby_2017[zipcode_grpby_2017['ZIPCODE']!='']\n",
    "\n",
    "zipcode_grpby_2018 = zipcode_grpby_2018.rename(columns={'ZIPCODE': 'ZIP'})\n",
    "zipcode_grpby_2017 = zipcode_grpby_2017.rename(columns={'ZIPCODE': 'ZIP'})\n",
    "zipcode_grpby_2016 = zipcode_grpby_2016.rename(columns={'ZIPCODE': 'ZIP'})"
   ]
  },
  {
   "cell_type": "markdown",
   "metadata": {},
   "source": [
    "## Fetching the crime data"
   ]
  },
  {
   "cell_type": "code",
   "execution_count": 129,
   "metadata": {},
   "outputs": [],
   "source": [
    "#2018 Property valuation data\n",
    "fileURL = './crime_data_zip.csv'\n",
    "crime_data = pd.read_csv(fileURL, header=0)"
   ]
  },
  {
   "cell_type": "markdown",
   "metadata": {},
   "source": [
    "## Cleaning the Crime data\n",
    "\n",
    "* Now the crime data has the data from June 2015, but the housing data is in parts, so we divided the crime data into years.\n"
   ]
  },
  {
   "cell_type": "code",
   "execution_count": 130,
   "metadata": {},
   "outputs": [],
   "source": [
    "def get_crime_of_year(year):\n",
    "    crime_data_part_one = crime_data[(crime_data.UCR_PART == 'Part One') & (crime_data.YEAR == year)]\n",
    "    crime_data_zip_code = pd.DataFrame(crime_data_part_one.groupby('ZIP').count()['INCIDENT_NUMBER'])\n",
    "    \n",
    "    return crime_data_zip_code\n",
    "\n",
    "\n",
    "crime_data_zip_code_2018 = get_crime_of_year(2018)\n",
    "crime_data_zip_code_2017 = get_crime_of_year(2017)\n",
    "crime_data_zip_code_2016 = get_crime_of_year(2016)\n",
    "\n",
    "crime_data_zip_code_2018 = crime_data_zip_code_2018.reset_index()\n",
    "crime_data_zip_code_2017 = crime_data_zip_code_2017.reset_index()\n",
    "crime_data_zip_code_2016 = crime_data_zip_code_2016.reset_index()"
   ]
  },
  {
   "cell_type": "code",
   "execution_count": 131,
   "metadata": {},
   "outputs": [
    {
     "data": {
      "text/html": [
       "<div>\n",
       "<style scoped>\n",
       "    .dataframe tbody tr th:only-of-type {\n",
       "        vertical-align: middle;\n",
       "    }\n",
       "\n",
       "    .dataframe tbody tr th {\n",
       "        vertical-align: top;\n",
       "    }\n",
       "\n",
       "    .dataframe thead th {\n",
       "        text-align: right;\n",
       "    }\n",
       "</style>\n",
       "<table border=\"1\" class=\"dataframe\">\n",
       "  <thead>\n",
       "    <tr style=\"text-align: right;\">\n",
       "      <th></th>\n",
       "      <th>ZIP</th>\n",
       "      <th>INCIDENT_NUMBER</th>\n",
       "    </tr>\n",
       "  </thead>\n",
       "  <tbody>\n",
       "    <tr>\n",
       "      <th>0</th>\n",
       "      <td>1125</td>\n",
       "      <td>427</td>\n",
       "    </tr>\n",
       "    <tr>\n",
       "      <th>1</th>\n",
       "      <td>2026</td>\n",
       "      <td>47</td>\n",
       "    </tr>\n",
       "    <tr>\n",
       "      <th>2</th>\n",
       "      <td>2102</td>\n",
       "      <td>193</td>\n",
       "    </tr>\n",
       "    <tr>\n",
       "      <th>3</th>\n",
       "      <td>2108</td>\n",
       "      <td>269</td>\n",
       "    </tr>\n",
       "    <tr>\n",
       "      <th>4</th>\n",
       "      <td>2109</td>\n",
       "      <td>370</td>\n",
       "    </tr>\n",
       "  </tbody>\n",
       "</table>\n",
       "</div>"
      ],
      "text/plain": [
       "    ZIP  INCIDENT_NUMBER\n",
       "0  1125              427\n",
       "1  2026               47\n",
       "2  2102              193\n",
       "3  2108              269\n",
       "4  2109              370"
      ]
     },
     "execution_count": 131,
     "metadata": {},
     "output_type": "execute_result"
    }
   ],
   "source": [
    "crime_data_zip_code_2018.head()"
   ]
  },
  {
   "cell_type": "code",
   "execution_count": 132,
   "metadata": {},
   "outputs": [
    {
     "data": {
      "text/html": [
       "<div>\n",
       "<style scoped>\n",
       "    .dataframe tbody tr th:only-of-type {\n",
       "        vertical-align: middle;\n",
       "    }\n",
       "\n",
       "    .dataframe tbody tr th {\n",
       "        vertical-align: top;\n",
       "    }\n",
       "\n",
       "    .dataframe thead th {\n",
       "        text-align: right;\n",
       "    }\n",
       "</style>\n",
       "<table border=\"1\" class=\"dataframe\">\n",
       "  <thead>\n",
       "    <tr style=\"text-align: right;\">\n",
       "      <th></th>\n",
       "      <th>ZIP</th>\n",
       "      <th>AV_TOTAL</th>\n",
       "    </tr>\n",
       "  </thead>\n",
       "  <tbody>\n",
       "    <tr>\n",
       "      <th>0</th>\n",
       "      <td>2090</td>\n",
       "      <td>6.375000e+05</td>\n",
       "    </tr>\n",
       "    <tr>\n",
       "      <th>1</th>\n",
       "      <td>2108</td>\n",
       "      <td>2.547800e+06</td>\n",
       "    </tr>\n",
       "    <tr>\n",
       "      <th>2</th>\n",
       "      <td>2109</td>\n",
       "      <td>3.219941e+06</td>\n",
       "    </tr>\n",
       "    <tr>\n",
       "      <th>3</th>\n",
       "      <td>2110</td>\n",
       "      <td>5.980761e+06</td>\n",
       "    </tr>\n",
       "    <tr>\n",
       "      <th>4</th>\n",
       "      <td>2111</td>\n",
       "      <td>2.877585e+06</td>\n",
       "    </tr>\n",
       "  </tbody>\n",
       "</table>\n",
       "</div>"
      ],
      "text/plain": [
       "    ZIP      AV_TOTAL\n",
       "0  2090  6.375000e+05\n",
       "1  2108  2.547800e+06\n",
       "2  2109  3.219941e+06\n",
       "3  2110  5.980761e+06\n",
       "4  2111  2.877585e+06"
      ]
     },
     "execution_count": 132,
     "metadata": {},
     "output_type": "execute_result"
    }
   ],
   "source": [
    "zipcode_grpby_2016.head()"
   ]
  },
  {
   "cell_type": "markdown",
   "metadata": {},
   "source": [
    "## Merging and analyzing the correlation between two datasets\n",
    "\n",
    "### Correlation for the year 2018\n",
    "* One can clearly see here that most places where the crime rates are high have a comparitively lower housing rates.\n",
    "* Though there are certain outliers like one with Zip code 02215 or 02128 where there are other factors that help the housing prices like Universities nearby or city centers or prime locations like Prudential center."
   ]
  },
  {
   "cell_type": "code",
   "execution_count": 141,
   "metadata": {
    "scrolled": false
   },
   "outputs": [
    {
     "data": {
      "text/plain": [
       "<matplotlib.axes._subplots.AxesSubplot at 0x1b39fc8b320>"
      ]
     },
     "execution_count": 141,
     "metadata": {},
     "output_type": "execute_result"
    },
    {
     "data": {
      "image/png": "[encoded data removed]",
      "text/plain": [
       "<Figure size 1440x720 with 2 Axes>"
      ]
     },
     "metadata": {
      "needs_background": "light"
     },
     "output_type": "display_data"
    }
   ],
   "source": [
    "crime_data_zip_code_2018.ZIP = crime_data_zip_code_2018.ZIP.map(lambda x:int(x))\n",
    "zipcode_grpby_2018.ZIP = zipcode_grpby_2018.ZIP.map(lambda x:int(x))\n",
    "\n",
    "merged = crime_data_zip_code_2018.merge(zipcode_grpby_2018, how='inner', on='ZIP')\n",
    "merged = merged.rename(columns={'AV_TOTAL': 'Average_House_Rates', 'INCIDENT_NUMBER':'CRIME_RATE'})\n",
    "merged.plot(kind='bar', x='ZIP', secondary_y='Average_House_Rates', figsize=(20, 10))"
   ]
  },
  {
   "cell_type": "markdown",
   "metadata": {},
   "source": [
    "### Correlation for the year 2017\n",
    "* A very smilar trend seems to be followed here."
   ]
  },
  {
   "cell_type": "code",
   "execution_count": 142,
   "metadata": {},
   "outputs": [
    {
     "data": {
      "text/plain": [
       "<matplotlib.axes._subplots.AxesSubplot at 0x1b39a7859e8>"
      ]
     },
     "execution_count": 142,
     "metadata": {},
     "output_type": "execute_result"
    },
    {
     "data": {
      "image/png": "[encoded data removed]",
      "text/plain": [
       "<Figure size 1440x720 with 2 Axes>"
      ]
     },
     "metadata": {
      "needs_background": "light"
     },
     "output_type": "display_data"
    }
   ],
   "source": [
    "crime_data_zip_code_2017.ZIP = crime_data_zip_code_2017.ZIP.map(lambda x:int(x))\n",
    "zipcode_grpby_2017.ZIP = zipcode_grpby_2017.ZIP.map(lambda x:int(x))\n",
    "\n",
    "merged = crime_data_zip_code_2017.merge(zipcode_grpby_2017, how='inner', on='ZIP')\n",
    "merged = merged.rename(columns={'AV_TOTAL': 'Average_House_Rates', 'INCIDENT_NUMBER':'CRIME_RATE'})\n",
    "merged.plot(kind='bar', x='ZIP', secondary_y='Average_House_Rates', figsize=(20, 10))"
   ]
  },
  {
   "cell_type": "markdown",
   "metadata": {},
   "source": [
    "### Correlation for year 2016\n",
    "\n",
    "* Same trend can be seen for the year 2016."
   ]
  },
  {
   "cell_type": "code",
   "execution_count": 143,
   "metadata": {},
   "outputs": [
    {
     "data": {
      "text/plain": [
       "<matplotlib.axes._subplots.AxesSubplot at 0x1b3afe85320>"
      ]
     },
     "execution_count": 143,
     "metadata": {},
     "output_type": "execute_result"
    },
    {
     "data": {
      "image/png": "[encoded data removed]",
      "text/plain": [
       "<Figure size 1440x720 with 2 Axes>"
      ]
     },
     "metadata": {
      "needs_background": "light"
     },
     "output_type": "display_data"
    }
   ],
   "source": [
    "crime_data_zip_code_2016.ZIP = crime_data_zip_code_2016.ZIP.map(lambda x:int(x))\n",
    "zipcode_grpby_2016.ZIP = zipcode_grpby_2016.ZIP.map(lambda x:int(x))\n",
    "\n",
    "merged = crime_data_zip_code_2017.merge(zipcode_grpby_2017, how='inner', on='ZIP')\n",
    "merged = merged.rename(columns={'AV_TOTAL': 'Average_House_Rates', 'INCIDENT_NUMBER':'CRIME_RATE'})\n",
    "merged.plot(kind='bar', x='ZIP', secondary_y='Average_House_Rates', figsize=(20, 10))"
   ]
  },
  {
   "cell_type": "code",
   "execution_count": null,
   "metadata": {},
   "outputs": [],
   "source": []
  }
 ],
 "metadata": {
  "kernelspec": {
   "display_name": "Python 3",
   "language": "python",
   "name": "python3"
  },
  "language_info": {
   "codemirror_mode": {
    "name": "ipython",
    "version": 3
   },
   "file_extension": ".py",
   "mimetype": "text/x-python",
   "name": "python",
   "nbconvert_exporter": "python",
   "pygments_lexer": "ipython3",
   "version": "3.7.3"
  }
 },
 "nbformat": 4,
 "nbformat_minor": 2
}
